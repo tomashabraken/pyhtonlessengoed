{
 "cells": [
  {
   "cell_type": "code",
   "execution_count": 1,
   "metadata": {},
   "outputs": [],
   "source": [
    "calories = input(\"hoeveel calorieeën heeft het?\")\n",
    "fat = input(\"hoeveel vet heeft het?\")\n",
    "carbs = input(\"hoeveel carbs heeft het?\")\n",
    "sugar = input(\"hoeveel suiker heeft het?\")\n",
    "\n",
    "kitkat = calories + fat + carbs + sugar\n",
    "\n",
    "kitkat = input(\"hoeveel kitkats heb je gegeten?\")\n",
    "\n",
    "uitkomst = \"zoveel calorieën = \" + str(int(calories) * int(kitkat)) + \" zoveel vet = \" + (str(int(fat) * (int(kitkat))) + \" zoveel carbs = \" +(str(int(fat) * int(kitkat))) + \" zoveel suiker = \" + str(int(sugar) * int(kitkat)))"
   ]
  },
  {
   "cell_type": "code",
   "execution_count": 3,
   "metadata": {},
   "outputs": [
    {
     "name": "stdout",
     "output_type": "stream",
     "text": [
      "zoveel calorieën = 1200 zoveel vet = 600 zoveel carbs = 600 zoveel suiker = 150\n"
     ]
    }
   ],
   "source": [
    "print(uitkomst)"
   ]
  },
  {
   "cell_type": "code",
   "execution_count": null,
   "metadata": {},
   "outputs": [],
   "source": []
  }
 ],
 "metadata": {
  "kernelspec": {
   "display_name": "Python 3",
   "language": "python",
   "name": "python3"
  },
  "language_info": {
   "codemirror_mode": {
    "name": "ipython",
    "version": 3
   },
   "file_extension": ".py",
   "mimetype": "text/x-python",
   "name": "python",
   "nbconvert_exporter": "python",
   "pygments_lexer": "ipython3",
   "version": "3.6.5"
  }
 },
 "nbformat": 4,
 "nbformat_minor": 2
}
